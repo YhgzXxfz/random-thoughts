{
 "cells": [
  {
   "attachments": {},
   "cell_type": "markdown",
   "metadata": {},
   "source": [
    "# Matrix Multiplication"
   ]
  },
  {
   "cell_type": "code",
   "execution_count": 1,
   "metadata": {},
   "outputs": [
    {
     "name": "stdout",
     "output_type": "stream",
     "text": [
      "Original: [[ 140.  -34.]\n",
      " [-167.  124.]\n",
      " [-174.  168.]]\n",
      "The slowest run took 14.43 times longer than the fastest. This could mean that an intermediate result is being cached.\n",
      "1.35 µs ± 778 ns per loop (mean ± std. dev. of 1000 runs, 1 loop each)\n",
      "Decompostion 2: [[ 140.  -34.]\n",
      " [-167.  124.]\n",
      " [-174.  168.]]\n",
      "The slowest run took 18.67 times longer than the fastest. This could mean that an intermediate result is being cached.\n",
      "11.2 µs ± 6.04 µs per loop (mean ± std. dev. of 1000 runs, 1 loop each)\n",
      "Decomposition: [[ 140.  -34.]\n",
      " [-167.  124.]\n",
      " [-174.  168.]]\n",
      "10.6 µs ± 1.34 µs per loop (mean ± std. dev. of 1000 runs, 1 loop each)\n"
     ]
    }
   ],
   "source": [
    "from itertools import accumulate\n",
    "import numpy as np\n",
    "\n",
    "A = np.array([[2, 45, -1, 17, -1], [0, 12, 3, -63, 2], [-1, 37, -1, -83, 0]], dtype=np.float16)\n",
    "B = np.array([[-1, 0], [2, 0], [0, -2], [3, -2], [-1, 2]], dtype=np.float16)\n",
    "\n",
    "# Regular A @ B\n",
    "def compute(X1: np.array, X2: np.array) -> np.array:\n",
    "    assert X1.shape[1] == X2.shape[0]\n",
    "\n",
    "    return X1 @ X2\n",
    "\n",
    "print(f\"Original: {A @ B}\")\n",
    "%timeit -r 1000 -n 1 A @ B\n",
    "\n",
    "\n",
    "\n",
    "# A @ B equals sum of each column(A) @ corresponding row(B)\n",
    "def decompose_elementwise_and_compute(X1: np.array, X2: np.array) -> np.array:\n",
    "    assert X1.shape[1] == X2.shape[0]\n",
    "\n",
    "    return sum([X1[:, i:i+1] @ X2[i:i+1, :] for i in range(X1.shape[1])])\n",
    "\n",
    "\n",
    "print(f\"Decompostion 2: {decompose_elementwise_and_compute(A, B)}\")\n",
    "%timeit -r 1000 -n 1 decompose_elementwise_and_compute(A, B)\n",
    "\n",
    "\n",
    "# Randomly split A by columns and B by corresponding rows\n",
    "def decompose_and_compute(X1: np.array, X2: np.array) -> np.array:\n",
    "    assert X1.shape[1] == X2.shape[0]\n",
    "\n",
    "    regular_ix = [0, 2, 4]\n",
    "    outlier_ix = [1, 3]\n",
    "    regular = A[:, regular_ix] @ B[regular_ix, :]\n",
    "    outlier = A[:, outlier_ix] @ B[outlier_ix, :]\n",
    "    return regular + outlier\n",
    "\n",
    "print(f\"Decomposition: {decompose_and_compute(A, B)}\")\n",
    "%timeit -r 1000 -n 1 decompose_and_compute(A, B)\n"
   ]
  }
 ],
 "metadata": {
  "kernelspec": {
   "display_name": "Python 3",
   "language": "python",
   "name": "python3"
  },
  "language_info": {
   "codemirror_mode": {
    "name": "ipython",
    "version": 3
   },
   "file_extension": ".py",
   "mimetype": "text/x-python",
   "name": "python",
   "nbconvert_exporter": "python",
   "pygments_lexer": "ipython3",
   "version": "3.9.7"
  },
  "orig_nbformat": 4,
  "vscode": {
   "interpreter": {
    "hash": "2241e891bdcb43d70b129352065e4a3e3c43dbe26992820aebe42833f1782192"
   }
  }
 },
 "nbformat": 4,
 "nbformat_minor": 2
}
