{
 "cells": [
  {
   "cell_type": "markdown",
   "metadata": {},
   "source": [
    "# Image Matching Algorithms"
   ]
  },
  {
   "cell_type": "markdown",
   "metadata": {},
   "source": [
    "## Prerequisites"
   ]
  },
  {
   "cell_type": "markdown",
   "metadata": {},
   "source": [
    "Understand `fftconvolve` and what's behind."
   ]
  },
  {
   "cell_type": "markdown",
   "metadata": {},
   "source": [
    "### 1-D"
   ]
  },
  {
   "cell_type": "code",
   "execution_count": 6,
   "metadata": {},
   "outputs": [],
   "source": [
    "import numpy as np\n",
    "from scipy.signal import fftconvolve\n",
    "from scipy.fft import fft, ifft"
   ]
  },
  {
   "cell_type": "code",
   "execution_count": 40,
   "metadata": {},
   "outputs": [],
   "source": [
    "a = (1, 2, 3)\n",
    "b = (4, 5, 6)"
   ]
  },
  {
   "cell_type": "code",
   "execution_count": 41,
   "metadata": {},
   "outputs": [
    {
     "data": {
      "text/plain": [
       "array([ 4, 13, 28, 27, 18])"
      ]
     },
     "execution_count": 41,
     "metadata": {},
     "output_type": "execute_result"
    }
   ],
   "source": [
    "np.convolve(a, b)"
   ]
  },
  {
   "cell_type": "code",
   "execution_count": 42,
   "metadata": {},
   "outputs": [
    {
     "name": "stdout",
     "output_type": "stream",
     "text": [
      "[ 4. 13. 28. 27. 18.]\n"
     ]
    }
   ],
   "source": [
    "fft_1_d = fftconvolve(a, b, mode=\"full\")\n",
    "print(fft_1_d)"
   ]
  },
  {
   "cell_type": "code",
   "execution_count": 54,
   "metadata": {},
   "outputs": [
    {
     "name": "stdout",
     "output_type": "stream",
     "text": [
      "[ 4. 13. 28. 27. 18.]\n"
     ]
    }
   ],
   "source": [
    "manual_fft_1_d = np.real(ifft(fft(np.pad(a, (0, len(b) - 1))) * fft(np.pad(b, (0, len(a) - 1)))))\n",
    "print(manual_fft_1_d)"
   ]
  },
  {
   "cell_type": "markdown",
   "metadata": {},
   "source": [
    "### 2-D"
   ]
  },
  {
   "cell_type": "code",
   "execution_count": 56,
   "metadata": {},
   "outputs": [],
   "source": [
    "from scipy.fft import fft2, ifft2\n",
    "from scipy.signal import fftconvolve"
   ]
  },
  {
   "cell_type": "code",
   "execution_count": 92,
   "metadata": {},
   "outputs": [
    {
     "name": "stdout",
     "output_type": "stream",
     "text": [
      "A [[8 5]\n",
      " [3 4]]\n",
      "B [[7 1]\n",
      " [4 9]]\n"
     ]
    }
   ],
   "source": [
    "# a = np.array([[1, 2, 3], [4, 5, 6], [7, 8, 9]])\n",
    "# b = np.array([[2, 7, 1], [8, 5, 3], [4, 6, 9]])\n",
    "\n",
    "m, n = 2, 2\n",
    "A = np.random.randint(1, 10, size=(m, n))\n",
    "B = np.random.randint(1, 10, size=(m, n))\n",
    "print(\"A\", A)\n",
    "print(\"B\", B)"
   ]
  },
  {
   "cell_type": "code",
   "execution_count": 93,
   "metadata": {},
   "outputs": [
    {
     "name": "stdout",
     "output_type": "stream",
     "text": [
      "[[ 56.  43.   5.]\n",
      " [ 53. 123.  49.]\n",
      " [ 12.  43.  36.]]\n"
     ]
    }
   ],
   "source": [
    "fft_2_d = fftconvolve(A, B, mode=\"full\")\n",
    "print(fft_2_d)"
   ]
  },
  {
   "cell_type": "code",
   "execution_count": 94,
   "metadata": {},
   "outputs": [
    {
     "name": "stdout",
     "output_type": "stream",
     "text": [
      "[[ 56.  43.   5.]\n",
      " [ 53. 123.  49.]\n",
      " [ 12.  43.  36.]]\n"
     ]
    }
   ],
   "source": [
    "manual_fft_2_d = np.real(ifft2(fft2(np.pad(A, ((0, m - 1), (0, n - 1)))) * fft2(np.pad(B, ((0, m - 1), (0, n - 1))))))\n",
    "print(manual_fft_2_d)"
   ]
  },
  {
   "cell_type": "markdown",
   "metadata": {},
   "source": [
    "## Image Matching"
   ]
  },
  {
   "cell_type": "markdown",
   "metadata": {},
   "source": [
    "> Let's firstly assume A.shape == B.shape"
   ]
  },
  {
   "cell_type": "markdown",
   "metadata": {},
   "source": [
    "### Data"
   ]
  },
  {
   "cell_type": "code",
   "execution_count": 120,
   "metadata": {},
   "outputs": [],
   "source": [
    "A = [[8, 5], [3, 4]]\n",
    "B = [[7, 1], [4, 9]]\n",
    "A = np.array(A)\n",
    "B = np.array(B)"
   ]
  },
  {
   "cell_type": "code",
   "execution_count": 129,
   "metadata": {},
   "outputs": [
    {
     "name": "stdout",
     "output_type": "stream",
     "text": [
      "[[8 5 1]\n",
      " [3 4 6]\n",
      " [2 7 9]]\n",
      "[[7 1 3]\n",
      " [6 5 2]\n",
      " [4 8 9]]\n"
     ]
    }
   ],
   "source": [
    "A, B = [[8, 5, 1], [3, 4, 6], [2, 7, 9]], [[7, 1, 3], [6, 5, 2], [4, 8, 9]]\n",
    "A = np.array(A)\n",
    "B = np.array(B)\n",
    "print(A)\n",
    "print(B)"
   ]
  },
  {
   "cell_type": "markdown",
   "metadata": {},
   "source": [
    "### O(N^4) implementation"
   ]
  },
  {
   "cell_type": "markdown",
   "metadata": {},
   "source": [
    "#### Make Sure Indexes Are Correct"
   ]
  },
  {
   "cell_type": "code",
   "execution_count": 117,
   "metadata": {},
   "outputs": [
    {
     "name": "stdout",
     "output_type": "stream",
     "text": [
      "[[ 72 109  81  28   4]\n",
      " [ 43 110 173  99  30]\n",
      " [ 48 125 259 190  79]\n",
      " [ 13  39 108 121  96]\n",
      " [  6  23  48  58  63]]\n"
     ]
    }
   ],
   "source": [
    "def _correlate(A, B):\n",
    "    # A remains stable and B moves over A. The top left element of the result will be B[-1][-1] * A[0][0].\n",
    "    if isinstance(A, list):\n",
    "        A = np.array(A)\n",
    "    if isinstance(B, list):\n",
    "        B = np.array(B)\n",
    "\n",
    "    rows, cols = A.shape\n",
    "    conv_rows = 2 * rows - 1\n",
    "    conv_cols = 2 * cols - 1\n",
    "    result = np.zeros((conv_rows, conv_cols), dtype=A.dtype)  # A and B have the same shape\n",
    "\n",
    "    # outer loop\n",
    "    for i in range(0, conv_rows):\n",
    "        for j in range(0, conv_cols):\n",
    "            r_offset = i + (-(rows - 1))\n",
    "            r_overlap = rows - abs(r_offset)\n",
    "            c_offset = j + (-(cols - 1))\n",
    "            c_overlap = cols - abs(c_offset)\n",
    "            # inner loop\n",
    "            for r in range(0, r_overlap):\n",
    "                for c in range(0, c_overlap):\n",
    "                    a_row, b_row = r, rows - (r_overlap - r)\n",
    "                    a_col, b_col = c, cols - (c_overlap - c)\n",
    "\n",
    "                    a_row, b_row = (b_row, a_row) if r_offset > 0 else (a_row, b_row)\n",
    "                    a_col, b_col = (b_col, a_col) if c_offset > 0 else (a_col, b_col)\n",
    "\n",
    "                    result[i][j] += A[a_row][a_col] * B[b_row][b_col]\n",
    "\n",
    "    return result\n",
    "\n",
    "\n",
    "manual_conv = _correlate(A, B)\n",
    "print(manual_conv)"
   ]
  },
  {
   "cell_type": "markdown",
   "metadata": {},
   "source": [
    "#### Cross check using convolution"
   ]
  },
  {
   "cell_type": "code",
   "execution_count": 152,
   "metadata": {},
   "outputs": [
    {
     "name": "stdout",
     "output_type": "stream",
     "text": [
      "[[ 72. 109.  81.  28.   4.]\n",
      " [ 43. 110. 173.  99.  30.]\n",
      " [ 48. 125. 259. 190.  79.]\n",
      " [ 13.  39. 108. 121.  96.]\n",
      " [  6.  23.  48.  58.  63.]]\n"
     ]
    }
   ],
   "source": [
    "fft_2_d = fftconvolve(A, B[..., ::-1][::-1, ...], mode=\"full\")  # Reverse B over all its axes\n",
    "print(fft_2_d)"
   ]
  },
  {
   "cell_type": "markdown",
   "metadata": {},
   "source": [
    "#### Now the Match Function"
   ]
  },
  {
   "cell_type": "code",
   "execution_count": 153,
   "metadata": {},
   "outputs": [
    {
     "name": "stdout",
     "output_type": "stream",
     "text": [
      "[[  1  16  89  50   9]\n",
      " [ 72  68  31  21  29]\n",
      " [ 75 101  52  19  61]\n",
      " [  0  39 103  51  10]\n",
      " [  1  17  97  64   4]]\n"
     ]
    }
   ],
   "source": [
    "def _match_o4(A, B):\n",
    "    # A remains stable and B moves over A. The top left element of the result will be (B[-1][-1] - A[0][0]) ** 2.\n",
    "    if isinstance(A, list):\n",
    "        A = np.array(A)\n",
    "    if isinstance(B, list):\n",
    "        B = np.array(B)\n",
    "\n",
    "    rows, cols = A.shape\n",
    "    conv_rows = 2 * rows - 1\n",
    "    conv_cols = 2 * cols - 1\n",
    "    result = np.zeros((conv_rows, conv_cols))  # A and B have the same shape\n",
    "\n",
    "    # outer loop\n",
    "    for i in range(0, conv_rows):\n",
    "        for j in range(0, conv_cols):\n",
    "            r_offset = i + (-(rows - 1))\n",
    "            r_overlap = rows - abs(r_offset)\n",
    "            c_offset = j + (-(cols - 1))\n",
    "            c_overlap = cols - abs(c_offset)\n",
    "            # inner loop\n",
    "            for r in range(0, r_overlap):\n",
    "                for c in range(0, c_overlap):\n",
    "                    a_row, b_row = r, rows - (r_overlap - r)\n",
    "                    a_col, b_col = c, cols - (c_overlap - c)\n",
    "\n",
    "                    a_row, b_row = (\n",
    "                        (b_row, a_row) if r_offset > 0 else (a_row, b_row)\n",
    "                    )  # offset > 0 means b_row should be smaller\n",
    "                    a_col, b_col = (b_col, a_col) if c_offset > 0 else (a_col, b_col)\n",
    "\n",
    "                    result[i][j] += (A[a_row][a_col] - B[b_row][b_col]) ** 2\n",
    "\n",
    "    return np.array(result, A.dtype)\n",
    "\n",
    "\n",
    "o4_match = _match_o4(A, B)\n",
    "print(o4_match)"
   ]
  },
  {
   "cell_type": "markdown",
   "metadata": {},
   "source": [
    "### O(N^2) Implementation"
   ]
  },
  {
   "cell_type": "markdown",
   "metadata": {},
   "source": [
    "(a - b) * (a - b) = a * a + b * b - 2ab"
   ]
  },
  {
   "cell_type": "markdown",
   "metadata": {},
   "source": [
    "#### Squared Cum Sum"
   ]
  },
  {
   "cell_type": "code",
   "execution_count": 79,
   "metadata": {},
   "outputs": [],
   "source": [
    "# C-like (I would do in 2013)\n",
    "# def compute_cum_sum_squared(matrix):\n",
    "#     result = np.zeros(matrix.shape)\n",
    "#     result[0][0] = matrix[0][0] ** 2\n",
    "\n",
    "#     # Row 0\n",
    "#     for j in range(1, cols):\n",
    "#         result[0][j] = result[0][j-1] + matrix[0][j] ** 2\n",
    "\n",
    "#     # Col 0\n",
    "#     for i in range(1, rows):\n",
    "#         result[i][0] = result[i-1][0] + matrix[i][0] ** 2\n",
    "\n",
    "#     for i in range(1, rows):\n",
    "#         for j in range(1, cols):\n",
    "#             result[i][j] = result[i-1][j] + result[i][j-1] - result[i-1][j-1] + matrix[i][j] ** 2\n",
    "\n",
    "#     return result\n",
    "\n",
    "\n",
    "# C-like (I would do in 2023)\n",
    "def compute_cum_sum_squared(matrix):\n",
    "    rows, cols = matrix.shape\n",
    "    result = np.zeros(matrix.shape, dtype=matrix.dtype)\n",
    "    for i in range(0, rows):\n",
    "        for j in range(0, cols):\n",
    "            upper = result[i - 1][j] if i > 0 else 0\n",
    "            left = result[i][j - 1] if j > 0 else 0\n",
    "            upper_left = result[i - 1][j - 1] if i > 0 and j > 0 else 0\n",
    "            result[i][j] = upper + left - upper_left + matrix[i][j] ** 2\n",
    "\n",
    "    return result\n",
    "\n",
    "\n",
    "# Pythonic (2023)\n",
    "# def compute_cum_sum_squared(matrix):\n",
    "#     squared = matrix ** 2\n",
    "#     return np.cumsum(np.cumsum(squared, axis=1), axis=0)"
   ]
  },
  {
   "cell_type": "code",
   "execution_count": 127,
   "metadata": {},
   "outputs": [
    {
     "data": {
      "text/plain": [
       "array([[64, 25,  1],\n",
       "       [ 9, 16, 36],\n",
       "       [ 4, 49, 81]])"
      ]
     },
     "execution_count": 127,
     "metadata": {},
     "output_type": "execute_result"
    }
   ],
   "source": [
    "A**2"
   ]
  },
  {
   "cell_type": "code",
   "execution_count": 125,
   "metadata": {},
   "outputs": [
    {
     "data": {
      "text/plain": [
       "array([[ 64,  89,  90],\n",
       "       [ 73, 114, 151],\n",
       "       [ 77, 167, 285]])"
      ]
     },
     "execution_count": 125,
     "metadata": {},
     "output_type": "execute_result"
    }
   ],
   "source": [
    "A_square_cum = compute_cum_sum_squared(A)\n",
    "A_square_cum"
   ]
  },
  {
   "cell_type": "code",
   "execution_count": 132,
   "metadata": {},
   "outputs": [
    {
     "data": {
      "text/plain": [
       "array([[49,  1,  9],\n",
       "       [36, 25,  4],\n",
       "       [16, 64, 81]])"
      ]
     },
     "execution_count": 132,
     "metadata": {},
     "output_type": "execute_result"
    }
   ],
   "source": [
    "B**2"
   ]
  },
  {
   "cell_type": "code",
   "execution_count": 131,
   "metadata": {},
   "outputs": [
    {
     "data": {
      "text/plain": [
       "array([[ 49,  50,  59],\n",
       "       [ 85, 111, 124],\n",
       "       [101, 191, 285]])"
      ]
     },
     "execution_count": 131,
     "metadata": {},
     "output_type": "execute_result"
    }
   ],
   "source": [
    "B_square_cum = compute_cum_sum_squared(B)\n",
    "B_square_cum"
   ]
  },
  {
   "cell_type": "code",
   "execution_count": 167,
   "metadata": {},
   "outputs": [
    {
     "name": "stdout",
     "output_type": "stream",
     "text": [
      "[[ 1.00000000e+00  1.60000000e+01  8.90000000e+01  5.00000000e+01\n",
      "   9.00000000e+00]\n",
      " [ 7.20000000e+01  6.80000000e+01  3.10000000e+01  2.10000000e+01\n",
      "   2.90000000e+01]\n",
      " [ 7.50000000e+01  1.01000000e+02  5.20000000e+01  1.90000000e+01\n",
      "   6.10000000e+01]\n",
      " [-2.84217094e-14  3.90000000e+01  1.03000000e+02  5.10000000e+01\n",
      "   1.00000000e+01]\n",
      " [ 1.00000000e+00  1.70000000e+01  9.70000000e+01  6.40000000e+01\n",
      "   4.00000000e+00]]\n"
     ]
    }
   ],
   "source": [
    "def _match_o2(A, B):\n",
    "    # A remains stable and B moves over A. The top left element of the result will be (B[-1][-1] - A[0][0]) ** 2.\n",
    "    if isinstance(A, list):\n",
    "        A = np.array(A)\n",
    "    if isinstance(B, list):\n",
    "        B = np.array(B)\n",
    "\n",
    "    rows, cols = A.shape\n",
    "    conv_rows = 2 * rows - 1\n",
    "    conv_cols = 2 * cols - 1\n",
    "    result = np.zeros((conv_rows, conv_cols))  # A and B have the same shape\n",
    "\n",
    "    A_square_cums = compute_cum_sum_squared(A)  # O(N^2)\n",
    "    B_square_cums = compute_cum_sum_squared(B)  # O(N^2)\n",
    "    corr = fftconvolve(A, B[..., ::-1][::-1, ...], mode=\"full\")  # O(N^2 * log(N^2))\n",
    "\n",
    "    for i in range(0, conv_rows):\n",
    "        for j in range(0, conv_cols):\n",
    "            r_offset = i + (-(rows - 1))\n",
    "            r_overlap = rows - abs(r_offset)  # overlap is [1, rows] or [1, cols]\n",
    "            c_offset = j + (-(cols - 1))\n",
    "            c_overlap = cols - abs(c_offset)\n",
    "\n",
    "            if r_offset > 0:\n",
    "                a_row_low, a_row_high = rows - r_overlap, rows\n",
    "                b_row_low, b_row_high = 0, r_overlap\n",
    "            else:\n",
    "                a_row_low, a_row_high = 0, r_overlap\n",
    "                b_row_low, b_row_high = rows - r_overlap, rows\n",
    "\n",
    "            if c_offset > 0:\n",
    "                a_col_low, a_col_high = cols - c_overlap, cols\n",
    "                b_col_low, b_col_high = 0, c_overlap\n",
    "            else:\n",
    "                a_col_low, a_col_high = 0, c_overlap\n",
    "                b_col_low, b_col_high = cols - c_overlap, cols\n",
    "\n",
    "            # a * a, b * b\n",
    "            As = (\n",
    "                A_square_cums[a_row_high - 1][a_col_high - 1]\n",
    "                - (A_square_cums[a_row_low - 1][a_col_high - 1] if a_row_low > 0 else 0)\n",
    "                - (A_square_cums[a_row_high - 1][a_col_low - 1] if a_col_low > 0 else 0)\n",
    "                + (A_square_cums[a_row_low - 1][a_col_low - 1] if a_row_low > 0 and a_col_low > 0 else 0)\n",
    "            )\n",
    "\n",
    "            Bs = (\n",
    "                B_square_cums[b_row_high - 1][b_col_high - 1]\n",
    "                - (B_square_cums[b_row_low - 1][b_col_high - 1] if b_row_low > 0 else 0)\n",
    "                - (B_square_cums[b_row_high - 1][b_col_low - 1] if b_col_low > 0 else 0)\n",
    "                + (B_square_cums[b_row_low - 1][b_col_low - 1] if b_row_low > 0 and b_col_low > 0 else 0)\n",
    "            )\n",
    "\n",
    "            # a * a + b * b - 2 * a * b\n",
    "            result[i][j] = As + Bs - 2 * corr[i][j]\n",
    "\n",
    "    return result\n",
    "\n",
    "\n",
    "o2_match = _match_o2(A, B)\n",
    "print(o2_match)"
   ]
  },
  {
   "cell_type": "code",
   "execution_count": 168,
   "metadata": {},
   "outputs": [],
   "source": [
    "assert np.allclose(o2_match, o4_match)"
   ]
  },
  {
   "cell_type": "markdown",
   "metadata": {},
   "source": [
    "## Testing"
   ]
  },
  {
   "cell_type": "code",
   "execution_count": 221,
   "metadata": {},
   "outputs": [],
   "source": [
    "import numpy as np\n",
    "\n",
    "m, n = 5, 10\n",
    "A, B = np.random.randint(0, 256, size=(m, n)), np.random.randint(0, 256, size=(m, n))\n",
    "\n",
    "assert np.allclose(_match_o2(A, B), _match_o4(A, B))"
   ]
  },
  {
   "cell_type": "markdown",
   "metadata": {},
   "source": [
    "## Benchmark\n"
   ]
  },
  {
   "cell_type": "markdown",
   "metadata": {},
   "source": [
    "- N=10: 649e-6 s vs 5.76e-3 s\n",
    "- N=20: 899e-6 s vs 5.97e-3 s\n",
    "- N=40: 10.9e-3 s vs 1.35 s\n",
    "- N=100: 65.5e-3 s vs 52.5 s"
   ]
  },
  {
   "cell_type": "code",
   "execution_count": 5,
   "metadata": {},
   "outputs": [
    {
     "data": {
      "image/png": "[encoded data removed]",
      "text/plain": [
       "<Figure size 640x480 with 1 Axes>"
      ]
     },
     "metadata": {},
     "output_type": "display_data"
    }
   ],
   "source": [
    "import matplotlib.pyplot as plt\n",
    "import numpy as np\n",
    "\n",
    "\n",
    "benchmark = {\n",
    "    \"N\": [5, 10, 20, 40, 100],\n",
    "    \"o2\": [179e-6, 649e-6, 899e-6, 10.9e-3, 65.5e-3],\n",
    "    \"o4\": [393e-6, 5.76e-3, 5.97e-3, 1.35, 52.5],\n",
    "}\n",
    "plt.plot(benchmark[\"N\"], np.log10(benchmark[\"o4\"]) - np.log10(benchmark[\"o2\"]))\n",
    "plt.title(\"Perf Gain of O(N^2) Impl vs O(N^4) Impl\")\n",
    "plt.xlabel(\"Image Length (N)\")\n",
    "plt.ylabel(\"Time Complexity Comparison (log10)\")\n",
    "plt.show()"
   ]
  },
  {
   "cell_type": "code",
   "execution_count": 214,
   "metadata": {},
   "outputs": [],
   "source": [
    "import numpy as np\n",
    "\n",
    "m, n = 5, 5\n",
    "A, B = np.random.randint(0, 256, size=(m, n)), np.random.randint(0, 256, size=(m, n))"
   ]
  },
  {
   "cell_type": "code",
   "execution_count": 215,
   "metadata": {},
   "outputs": [
    {
     "name": "stdout",
     "output_type": "stream",
     "text": [
      "179 µs ± 21.7 µs per loop (mean ± std. dev. of 10 runs, 100 loops each)\n"
     ]
    }
   ],
   "source": [
    "%timeit -n 100 -r 10 _match_o2(A, B)"
   ]
  },
  {
   "cell_type": "code",
   "execution_count": 216,
   "metadata": {},
   "outputs": [
    {
     "name": "stdout",
     "output_type": "stream",
     "text": [
      "393 µs ± 20 µs per loop (mean ± std. dev. of 10 runs, 100 loops each)\n"
     ]
    }
   ],
   "source": [
    "%timeit -n 100 -r 10 _match_o4(A, B)"
   ]
  }
 ],
 "metadata": {
  "kernelspec": {
   "display_name": "cs7643-a1",
   "language": "python",
   "name": "python3"
  },
  "language_info": {
   "codemirror_mode": {
    "name": "ipython",
    "version": 3
   },
   "file_extension": ".py",
   "mimetype": "text/x-python",
   "name": "python",
   "nbconvert_exporter": "python",
   "pygments_lexer": "ipython3",
   "version": "3.10.13"
  }
 },
 "nbformat": 4,
 "nbformat_minor": 2
}
