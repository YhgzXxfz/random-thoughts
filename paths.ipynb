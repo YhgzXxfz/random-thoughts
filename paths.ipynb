{
 "cells": [
  {
   "attachments": {},
   "cell_type": "markdown",
   "metadata": {},
   "source": [
    "### `os.scandir` is much faster than `pathlib.Path.glob`"
   ]
  },
  {
   "cell_type": "code",
   "execution_count": 1,
   "metadata": {},
   "outputs": [
    {
     "name": "stdout",
     "output_type": "stream",
     "text": [
      "7.53 s ± 0 ns per loop (mean ± std. dev. of 1 run, 1 loop each)\n"
     ]
    }
   ],
   "source": [
    "from pathlib import Path\n",
    "\n",
    "path = \"/checkpoint/qingfeiyou/offlinerl/ppo_dataset/miner/1.0/\"\n",
    "\n",
    "%timeit -r 1 -n 1 l = [name for name in Path(path).rglob(\"*.npz\")]"
   ]
  },
  {
   "cell_type": "code",
   "execution_count": 2,
   "metadata": {},
   "outputs": [
    {
     "name": "stdout",
     "output_type": "stream",
     "text": [
      "8.2 ms ± 0 ns per loop (mean ± std. dev. of 1 run, 1 loop each)\n"
     ]
    }
   ],
   "source": [
    "import os\n",
    "\n",
    "path = \"/checkpoint/qingfeiyou/offlinerl/ppo_dataset/miner/1.0/\"\n",
    "\n",
    "%timeit -r 1 -n 1 l = [f.path for f in os.scandir(path)]"
   ]
  }
 ],
 "metadata": {
  "kernelspec": {
   "display_name": "Python 3",
   "language": "python",
   "name": "python3"
  },
  "language_info": {
   "codemirror_mode": {
    "name": "ipython",
    "version": 3
   },
   "file_extension": ".py",
   "mimetype": "text/x-python",
   "name": "python",
   "nbconvert_exporter": "python",
   "pygments_lexer": "ipython3",
   "version": "3.9.16"
  },
  "orig_nbformat": 4,
  "vscode": {
   "interpreter": {
    "hash": "d19afded8e92c14eef98f856b96a8455f5f0dd2b6ca5e4eb395bc63bb4b90357"
   }
  }
 },
 "nbformat": 4,
 "nbformat_minor": 2
}
