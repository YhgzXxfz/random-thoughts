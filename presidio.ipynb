{
 "cells": [
  {
   "cell_type": "markdown",
   "metadata": {},
   "source": [
    "# Install"
   ]
  },
  {
   "cell_type": "code",
   "execution_count": 3,
   "metadata": {},
   "outputs": [
    {
     "name": "stdout",
     "output_type": "stream",
     "text": [
      "Looking in indexes: https://pypi.org/simple, https://pypi.ngc.nvidia.com\n",
      "Requirement already satisfied: presidio-analyzer in /private/home/qingfeiyou/.conda/envs/dask/lib/python3.10/site-packages (2.2.33)\n",
      "Requirement already satisfied: spacy>=3.4.4 in /private/home/qingfeiyou/.conda/envs/dask/lib/python3.10/site-packages (from presidio-analyzer) (3.6.0)\n",
      "Requirement already satisfied: regex in /private/home/qingfeiyou/.conda/envs/dask/lib/python3.10/site-packages (from presidio-analyzer) (2023.6.3)\n",
      "Requirement already satisfied: tldextract in /private/home/qingfeiyou/.conda/envs/dask/lib/python3.10/site-packages (from presidio-analyzer) (3.4.4)\n",
      "Requirement already satisfied: pyyaml in /private/home/qingfeiyou/.conda/envs/dask/lib/python3.10/site-packages (from presidio-analyzer) (6.0)\n",
      "Requirement already satisfied: phonenumbers>=8.12 in /private/home/qingfeiyou/.conda/envs/dask/lib/python3.10/site-packages (from presidio-analyzer) (8.13.17)\n",
      "Requirement already satisfied: spacy-legacy<3.1.0,>=3.0.11 in /private/home/qingfeiyou/.conda/envs/dask/lib/python3.10/site-packages (from spacy>=3.4.4->presidio-analyzer) (3.0.12)\n",
      "Requirement already satisfied: spacy-loggers<2.0.0,>=1.0.0 in /private/home/qingfeiyou/.conda/envs/dask/lib/python3.10/site-packages (from spacy>=3.4.4->presidio-analyzer) (1.0.4)\n",
      "Requirement already satisfied: murmurhash<1.1.0,>=0.28.0 in /private/home/qingfeiyou/.conda/envs/dask/lib/python3.10/site-packages (from spacy>=3.4.4->presidio-analyzer) (1.0.9)\n",
      "Requirement already satisfied: cymem<2.1.0,>=2.0.2 in /private/home/qingfeiyou/.conda/envs/dask/lib/python3.10/site-packages (from spacy>=3.4.4->presidio-analyzer) (2.0.7)\n",
      "Requirement already satisfied: preshed<3.1.0,>=3.0.2 in /private/home/qingfeiyou/.conda/envs/dask/lib/python3.10/site-packages (from spacy>=3.4.4->presidio-analyzer) (3.0.8)\n",
      "Requirement already satisfied: thinc<8.2.0,>=8.1.8 in /private/home/qingfeiyou/.conda/envs/dask/lib/python3.10/site-packages (from spacy>=3.4.4->presidio-analyzer) (8.1.10)\n",
      "Requirement already satisfied: wasabi<1.2.0,>=0.9.1 in /private/home/qingfeiyou/.conda/envs/dask/lib/python3.10/site-packages (from spacy>=3.4.4->presidio-analyzer) (1.1.2)\n",
      "Requirement already satisfied: srsly<3.0.0,>=2.4.3 in /private/home/qingfeiyou/.conda/envs/dask/lib/python3.10/site-packages (from spacy>=3.4.4->presidio-analyzer) (2.4.7)\n",
      "Requirement already satisfied: catalogue<2.1.0,>=2.0.6 in /private/home/qingfeiyou/.conda/envs/dask/lib/python3.10/site-packages (from spacy>=3.4.4->presidio-analyzer) (2.0.9)\n",
      "Requirement already satisfied: typer<0.10.0,>=0.3.0 in /private/home/qingfeiyou/.conda/envs/dask/lib/python3.10/site-packages (from spacy>=3.4.4->presidio-analyzer) (0.9.0)\n",
      "Requirement already satisfied: pathy>=0.10.0 in /private/home/qingfeiyou/.conda/envs/dask/lib/python3.10/site-packages (from spacy>=3.4.4->presidio-analyzer) (0.10.2)\n",
      "Requirement already satisfied: smart-open<7.0.0,>=5.2.1 in /private/home/qingfeiyou/.conda/envs/dask/lib/python3.10/site-packages (from spacy>=3.4.4->presidio-analyzer) (6.3.0)\n",
      "Requirement already satisfied: tqdm<5.0.0,>=4.38.0 in /private/home/qingfeiyou/.conda/envs/dask/lib/python3.10/site-packages (from spacy>=3.4.4->presidio-analyzer) (4.65.0)\n",
      "Requirement already satisfied: numpy>=1.15.0 in /private/home/qingfeiyou/.conda/envs/dask/lib/python3.10/site-packages (from spacy>=3.4.4->presidio-analyzer) (1.24.0)\n",
      "Requirement already satisfied: requests<3.0.0,>=2.13.0 in /private/home/qingfeiyou/.conda/envs/dask/lib/python3.10/site-packages (from spacy>=3.4.4->presidio-analyzer) (2.29.0)\n",
      "Requirement already satisfied: pydantic!=1.8,!=1.8.1,<1.11.0,>=1.7.4 in /private/home/qingfeiyou/.conda/envs/dask/lib/python3.10/site-packages (from spacy>=3.4.4->presidio-analyzer) (1.10.12)\n",
      "Requirement already satisfied: jinja2 in /private/home/qingfeiyou/.conda/envs/dask/lib/python3.10/site-packages (from spacy>=3.4.4->presidio-analyzer) (3.1.2)\n",
      "Requirement already satisfied: setuptools in /private/home/qingfeiyou/.conda/envs/dask/lib/python3.10/site-packages (from spacy>=3.4.4->presidio-analyzer) (67.8.0)\n",
      "Requirement already satisfied: packaging>=20.0 in /private/home/qingfeiyou/.conda/envs/dask/lib/python3.10/site-packages (from spacy>=3.4.4->presidio-analyzer) (23.1)\n",
      "Requirement already satisfied: langcodes<4.0.0,>=3.2.0 in /private/home/qingfeiyou/.conda/envs/dask/lib/python3.10/site-packages (from spacy>=3.4.4->presidio-analyzer) (3.3.0)\n",
      "Requirement already satisfied: idna in /private/home/qingfeiyou/.conda/envs/dask/lib/python3.10/site-packages (from tldextract->presidio-analyzer) (3.4)\n",
      "Requirement already satisfied: requests-file>=1.4 in /private/home/qingfeiyou/.conda/envs/dask/lib/python3.10/site-packages (from tldextract->presidio-analyzer) (1.5.1)\n",
      "Requirement already satisfied: filelock>=3.0.8 in /private/home/qingfeiyou/.conda/envs/dask/lib/python3.10/site-packages (from tldextract->presidio-analyzer) (3.12.2)\n",
      "Requirement already satisfied: typing-extensions>=4.2.0 in /private/home/qingfeiyou/.conda/envs/dask/lib/python3.10/site-packages (from pydantic!=1.8,!=1.8.1,<1.11.0,>=1.7.4->spacy>=3.4.4->presidio-analyzer) (4.7.1)\n",
      "Requirement already satisfied: charset-normalizer<4,>=2 in /private/home/qingfeiyou/.conda/envs/dask/lib/python3.10/site-packages (from requests<3.0.0,>=2.13.0->spacy>=3.4.4->presidio-analyzer) (2.0.4)\n",
      "Requirement already satisfied: urllib3<1.27,>=1.21.1 in /private/home/qingfeiyou/.conda/envs/dask/lib/python3.10/site-packages (from requests<3.0.0,>=2.13.0->spacy>=3.4.4->presidio-analyzer) (1.26.16)\n",
      "Requirement already satisfied: certifi>=2017.4.17 in /private/home/qingfeiyou/.conda/envs/dask/lib/python3.10/site-packages (from requests<3.0.0,>=2.13.0->spacy>=3.4.4->presidio-analyzer) (2023.7.22)\n",
      "Requirement already satisfied: six in /private/home/qingfeiyou/.conda/envs/dask/lib/python3.10/site-packages (from requests-file>=1.4->tldextract->presidio-analyzer) (1.16.0)\n",
      "Requirement already satisfied: blis<0.8.0,>=0.7.8 in /private/home/qingfeiyou/.conda/envs/dask/lib/python3.10/site-packages (from thinc<8.2.0,>=8.1.8->spacy>=3.4.4->presidio-analyzer) (0.7.10)\n",
      "Requirement already satisfied: confection<1.0.0,>=0.0.1 in /private/home/qingfeiyou/.conda/envs/dask/lib/python3.10/site-packages (from thinc<8.2.0,>=8.1.8->spacy>=3.4.4->presidio-analyzer) (0.1.0)\n",
      "Requirement already satisfied: click<9.0.0,>=7.1.1 in /private/home/qingfeiyou/.conda/envs/dask/lib/python3.10/site-packages (from typer<0.10.0,>=0.3.0->spacy>=3.4.4->presidio-analyzer) (8.1.5)\n",
      "Requirement already satisfied: MarkupSafe>=2.0 in /private/home/qingfeiyou/.conda/envs/dask/lib/python3.10/site-packages (from jinja2->spacy>=3.4.4->presidio-analyzer) (2.1.1)\n",
      "Note: you may need to restart the kernel to use updated packages.\n",
      "Looking in indexes: https://pypi.org/simple, https://pypi.ngc.nvidia.com\n",
      "Requirement already satisfied: presidio-anonymizer in /private/home/qingfeiyou/.conda/envs/dask/lib/python3.10/site-packages (2.2.33)\n",
      "Requirement already satisfied: pycryptodome>=3.10.1 in /private/home/qingfeiyou/.conda/envs/dask/lib/python3.10/site-packages (from presidio-anonymizer) (3.18.0)\n",
      "Note: you may need to restart the kernel to use updated packages.\n",
      "Looking in indexes: https://pypi.org/simple, https://pypi.ngc.nvidia.com\n",
      "Collecting en-core-web-lg==3.6.0\n",
      "  Downloading https://github.com/explosion/spacy-models/releases/download/en_core_web_lg-3.6.0/en_core_web_lg-3.6.0-py3-none-any.whl (587.7 MB)\n",
      "\u001b[2K     \u001b[90m━━━━━━━━━━━━━━━━━━━━━━━━━━━━━━━━━━━━━━\u001b[0m \u001b[32m587.7/587.7 MB\u001b[0m \u001b[31m68.5 MB/s\u001b[0m eta \u001b[36m0:00:00\u001b[0m00:01\u001b[0m00:01\u001b[0m\n",
      "\u001b[?25hRequirement already satisfied: spacy<3.7.0,>=3.6.0 in /private/home/qingfeiyou/.conda/envs/dask/lib/python3.10/site-packages (from en-core-web-lg==3.6.0) (3.6.0)\n",
      "Requirement already satisfied: spacy-legacy<3.1.0,>=3.0.11 in /private/home/qingfeiyou/.conda/envs/dask/lib/python3.10/site-packages (from spacy<3.7.0,>=3.6.0->en-core-web-lg==3.6.0) (3.0.12)\n",
      "Requirement already satisfied: spacy-loggers<2.0.0,>=1.0.0 in /private/home/qingfeiyou/.conda/envs/dask/lib/python3.10/site-packages (from spacy<3.7.0,>=3.6.0->en-core-web-lg==3.6.0) (1.0.4)\n",
      "Requirement already satisfied: murmurhash<1.1.0,>=0.28.0 in /private/home/qingfeiyou/.conda/envs/dask/lib/python3.10/site-packages (from spacy<3.7.0,>=3.6.0->en-core-web-lg==3.6.0) (1.0.9)\n",
      "Requirement already satisfied: cymem<2.1.0,>=2.0.2 in /private/home/qingfeiyou/.conda/envs/dask/lib/python3.10/site-packages (from spacy<3.7.0,>=3.6.0->en-core-web-lg==3.6.0) (2.0.7)\n",
      "Requirement already satisfied: preshed<3.1.0,>=3.0.2 in /private/home/qingfeiyou/.conda/envs/dask/lib/python3.10/site-packages (from spacy<3.7.0,>=3.6.0->en-core-web-lg==3.6.0) (3.0.8)\n",
      "Requirement already satisfied: thinc<8.2.0,>=8.1.8 in /private/home/qingfeiyou/.conda/envs/dask/lib/python3.10/site-packages (from spacy<3.7.0,>=3.6.0->en-core-web-lg==3.6.0) (8.1.10)\n",
      "Requirement already satisfied: wasabi<1.2.0,>=0.9.1 in /private/home/qingfeiyou/.conda/envs/dask/lib/python3.10/site-packages (from spacy<3.7.0,>=3.6.0->en-core-web-lg==3.6.0) (1.1.2)\n",
      "Requirement already satisfied: srsly<3.0.0,>=2.4.3 in /private/home/qingfeiyou/.conda/envs/dask/lib/python3.10/site-packages (from spacy<3.7.0,>=3.6.0->en-core-web-lg==3.6.0) (2.4.7)\n",
      "Requirement already satisfied: catalogue<2.1.0,>=2.0.6 in /private/home/qingfeiyou/.conda/envs/dask/lib/python3.10/site-packages (from spacy<3.7.0,>=3.6.0->en-core-web-lg==3.6.0) (2.0.9)\n",
      "Requirement already satisfied: typer<0.10.0,>=0.3.0 in /private/home/qingfeiyou/.conda/envs/dask/lib/python3.10/site-packages (from spacy<3.7.0,>=3.6.0->en-core-web-lg==3.6.0) (0.9.0)\n",
      "Requirement already satisfied: pathy>=0.10.0 in /private/home/qingfeiyou/.conda/envs/dask/lib/python3.10/site-packages (from spacy<3.7.0,>=3.6.0->en-core-web-lg==3.6.0) (0.10.2)\n",
      "Requirement already satisfied: smart-open<7.0.0,>=5.2.1 in /private/home/qingfeiyou/.conda/envs/dask/lib/python3.10/site-packages (from spacy<3.7.0,>=3.6.0->en-core-web-lg==3.6.0) (6.3.0)\n",
      "Requirement already satisfied: tqdm<5.0.0,>=4.38.0 in /private/home/qingfeiyou/.conda/envs/dask/lib/python3.10/site-packages (from spacy<3.7.0,>=3.6.0->en-core-web-lg==3.6.0) (4.65.0)\n",
      "Requirement already satisfied: numpy>=1.15.0 in /private/home/qingfeiyou/.conda/envs/dask/lib/python3.10/site-packages (from spacy<3.7.0,>=3.6.0->en-core-web-lg==3.6.0) (1.24.0)\n",
      "Requirement already satisfied: requests<3.0.0,>=2.13.0 in /private/home/qingfeiyou/.conda/envs/dask/lib/python3.10/site-packages (from spacy<3.7.0,>=3.6.0->en-core-web-lg==3.6.0) (2.29.0)\n",
      "Requirement already satisfied: pydantic!=1.8,!=1.8.1,<1.11.0,>=1.7.4 in /private/home/qingfeiyou/.conda/envs/dask/lib/python3.10/site-packages (from spacy<3.7.0,>=3.6.0->en-core-web-lg==3.6.0) (1.10.12)\n",
      "Requirement already satisfied: jinja2 in /private/home/qingfeiyou/.conda/envs/dask/lib/python3.10/site-packages (from spacy<3.7.0,>=3.6.0->en-core-web-lg==3.6.0) (3.1.2)\n",
      "Requirement already satisfied: setuptools in /private/home/qingfeiyou/.conda/envs/dask/lib/python3.10/site-packages (from spacy<3.7.0,>=3.6.0->en-core-web-lg==3.6.0) (67.8.0)\n",
      "Requirement already satisfied: packaging>=20.0 in /private/home/qingfeiyou/.conda/envs/dask/lib/python3.10/site-packages (from spacy<3.7.0,>=3.6.0->en-core-web-lg==3.6.0) (23.1)\n",
      "Requirement already satisfied: langcodes<4.0.0,>=3.2.0 in /private/home/qingfeiyou/.conda/envs/dask/lib/python3.10/site-packages (from spacy<3.7.0,>=3.6.0->en-core-web-lg==3.6.0) (3.3.0)\n",
      "Requirement already satisfied: typing-extensions>=4.2.0 in /private/home/qingfeiyou/.conda/envs/dask/lib/python3.10/site-packages (from pydantic!=1.8,!=1.8.1,<1.11.0,>=1.7.4->spacy<3.7.0,>=3.6.0->en-core-web-lg==3.6.0) (4.7.1)\n",
      "Requirement already satisfied: charset-normalizer<4,>=2 in /private/home/qingfeiyou/.conda/envs/dask/lib/python3.10/site-packages (from requests<3.0.0,>=2.13.0->spacy<3.7.0,>=3.6.0->en-core-web-lg==3.6.0) (2.0.4)\n",
      "Requirement already satisfied: idna<4,>=2.5 in /private/home/qingfeiyou/.conda/envs/dask/lib/python3.10/site-packages (from requests<3.0.0,>=2.13.0->spacy<3.7.0,>=3.6.0->en-core-web-lg==3.6.0) (3.4)\n",
      "Requirement already satisfied: urllib3<1.27,>=1.21.1 in /private/home/qingfeiyou/.conda/envs/dask/lib/python3.10/site-packages (from requests<3.0.0,>=2.13.0->spacy<3.7.0,>=3.6.0->en-core-web-lg==3.6.0) (1.26.16)\n",
      "Requirement already satisfied: certifi>=2017.4.17 in /private/home/qingfeiyou/.conda/envs/dask/lib/python3.10/site-packages (from requests<3.0.0,>=2.13.0->spacy<3.7.0,>=3.6.0->en-core-web-lg==3.6.0) (2023.7.22)\n",
      "Requirement already satisfied: blis<0.8.0,>=0.7.8 in /private/home/qingfeiyou/.conda/envs/dask/lib/python3.10/site-packages (from thinc<8.2.0,>=8.1.8->spacy<3.7.0,>=3.6.0->en-core-web-lg==3.6.0) (0.7.10)\n",
      "Requirement already satisfied: confection<1.0.0,>=0.0.1 in /private/home/qingfeiyou/.conda/envs/dask/lib/python3.10/site-packages (from thinc<8.2.0,>=8.1.8->spacy<3.7.0,>=3.6.0->en-core-web-lg==3.6.0) (0.1.0)\n",
      "Requirement already satisfied: click<9.0.0,>=7.1.1 in /private/home/qingfeiyou/.conda/envs/dask/lib/python3.10/site-packages (from typer<0.10.0,>=0.3.0->spacy<3.7.0,>=3.6.0->en-core-web-lg==3.6.0) (8.1.5)\n",
      "Requirement already satisfied: MarkupSafe>=2.0 in /private/home/qingfeiyou/.conda/envs/dask/lib/python3.10/site-packages (from jinja2->spacy<3.7.0,>=3.6.0->en-core-web-lg==3.6.0) (2.1.1)\n",
      "Installing collected packages: en-core-web-lg\n",
      "Successfully installed en-core-web-lg-3.6.0\n",
      "\u001b[38;5;2m✔ Download and installation successful\u001b[0m\n",
      "You can now load the package via spacy.load('en_core_web_lg')\n"
     ]
    }
   ],
   "source": [
    "%pip install presidio-analyzer\n",
    "%pip install presidio-anonymizer\n",
    "!python -m spacy download en_core_web_lg"
   ]
  },
  {
   "cell_type": "markdown",
   "metadata": {},
   "source": [
    "# Import"
   ]
  },
  {
   "cell_type": "code",
   "execution_count": 1,
   "metadata": {},
   "outputs": [],
   "source": [
    "from presidio_analyzer import AnalyzerEngine\n",
    "from presidio_anonymizer import AnonymizerEngine"
   ]
  },
  {
   "cell_type": "markdown",
   "metadata": {},
   "source": [
    "# Detection"
   ]
  },
  {
   "cell_type": "markdown",
   "metadata": {},
   "source": [
    "### Name / Email / URL"
   ]
  },
  {
   "cell_type": "code",
   "execution_count": 13,
   "metadata": {},
   "outputs": [
    {
     "name": "stdout",
     "output_type": "stream",
     "text": [
      "[type: EMAIL_ADDRESS, start: 91, end: 103, score: 1.0, type: PERSON, start: 20, end: 24, score: 0.85, type: URL, start: 96, end: 103, score: 0.5]\n"
     ]
    }
   ],
   "source": [
    "text = \"I suspect Professor Plum, in the Dining Room, with the candlestick, whose email address is plum@hot.com.\"\n",
    "\n",
    "analyzer = AnalyzerEngine()\n",
    "analyzer_results = analyzer.analyze(text=text, language=\"en\")\n",
    "\n",
    "print(analyzer_results)"
   ]
  },
  {
   "cell_type": "markdown",
   "metadata": {},
   "source": [
    "### Phone Number"
   ]
  },
  {
   "cell_type": "code",
   "execution_count": 12,
   "metadata": {},
   "outputs": [
    {
     "name": "stdout",
     "output_type": "stream",
     "text": [
      "[type: PERSON, start: 16, end: 21, score: 0.85, type: PHONE_NUMBER, start: 46, end: 58, score: 0.75]\n",
      "Decision process output:\n",
      "\n",
      "{'original_score': 0.85,\n",
      " 'pattern': None,\n",
      " 'pattern_name': None,\n",
      " 'recognizer': 'SpacyRecognizer',\n",
      " 'score': 0.85,\n",
      " 'score_context_improvement': 0,\n",
      " 'supportive_context_word': '',\n",
      " 'textual_explanation': \"Identified as PERSON by Spacy's Named Entity \"\n",
      "                        'Recognition',\n",
      " 'validation_result': None}\n",
      "{'original_score': 0.4,\n",
      " 'pattern': None,\n",
      " 'pattern_name': None,\n",
      " 'recognizer': 'ABCMeta',\n",
      " 'score': 0.75,\n",
      " 'score_context_improvement': 0.35,\n",
      " 'supportive_context_word': 'phone',\n",
      " 'textual_explanation': 'Recognized as US region phone number, using '\n",
      "                        'PhoneRecognizer',\n",
      " 'validation_result': None}\n"
     ]
    }
   ],
   "source": [
    "import pprint\n",
    "\n",
    "text = \"His name is Mr. Jones and his phone number is 212-555-5555\"\n",
    "\n",
    "analyzer_results = analyzer.analyze(text=text, language=\"en\", return_decision_process=True)\n",
    "\n",
    "print(analyzer_results)\n",
    "\n",
    "pp = pprint.PrettyPrinter()\n",
    "print(\"Decision process output:\\n\")\n",
    "pp.pprint(analyzer_results[0].analysis_explanation.__dict__)\n",
    "pp.pprint(analyzer_results[1].analysis_explanation.__dict__)"
   ]
  },
  {
   "cell_type": "markdown",
   "metadata": {},
   "source": [
    "### Postcode"
   ]
  },
  {
   "cell_type": "code",
   "execution_count": 8,
   "metadata": {},
   "outputs": [
    {
     "name": "stdout",
     "output_type": "stream",
     "text": [
      "Result:\n",
      " []\n"
     ]
    }
   ],
   "source": [
    "results = analyzer.analyze(text=\"My zip code is 90210\", language=\"en\")\n",
    "\n",
    "print(f\"Result:\\n {results}\")"
   ]
  },
  {
   "cell_type": "code",
   "execution_count": 25,
   "metadata": {},
   "outputs": [
    {
     "name": "stdout",
     "output_type": "stream",
     "text": [
      "Result:\n",
      " []\n"
     ]
    }
   ],
   "source": [
    "results = analyzer.analyze(text=\"my name is Baptiste\", language=\"en\")\n",
    "\n",
    "print(f\"Result:\\n {results}\")"
   ]
  },
  {
   "cell_type": "markdown",
   "metadata": {},
   "source": [
    "# Anonymization"
   ]
  },
  {
   "cell_type": "code",
   "execution_count": 5,
   "metadata": {},
   "outputs": [
    {
     "name": "stdout",
     "output_type": "stream",
     "text": [
      "Analysis: [type: PHONE_NUMBER, start: 19, end: 31, score: 0.75]\n",
      "Anomymize: text: My phone number is <PHONE_NUMBER>\n",
      "items:\n",
      "[\n",
      "    {'start': 19, 'end': 33, 'entity_type': 'PHONE_NUMBER', 'text': '<PHONE_NUMBER>', 'operator': 'replace'}\n",
      "]\n",
      "\n"
     ]
    }
   ],
   "source": [
    "text=\"My phone number is 212-555-5555\"\n",
    "\n",
    "# Set up the engine, loads the NLP module (spaCy model by default) \n",
    "# and other PII recognizers\n",
    "analyzer = AnalyzerEngine()\n",
    "\n",
    "# Call analyzer to get results\n",
    "results = analyzer.analyze(text=text,\n",
    "                           entities=[\"PHONE_NUMBER\"],\n",
    "                           language='en')\n",
    "print(f\"Analysis: {results}\")\n",
    "\n",
    "# Analyzer results are passed to the AnonymizerEngine for anonymization\n",
    "\n",
    "anonymizer = AnonymizerEngine()\n",
    "\n",
    "anonymized_text = anonymizer.anonymize(text=text,analyzer_results=results)\n",
    "\n",
    "print(f\"Anomymize: {anonymized_text}\")"
   ]
  },
  {
   "cell_type": "code",
   "execution_count": 29,
   "metadata": {},
   "outputs": [
    {
     "name": "stdout",
     "output_type": "stream",
     "text": [
      "[type: PERSON, start: 16, end: 21, score: 0.85, type: PHONE_NUMBER, start: 46, end: 58, score: 0.75]\n",
      "text: His name is Mr. <ANONYMIZED> and his phone number is ************\n"
     ]
    }
   ],
   "source": [
    "from presidio_anonymizer.entities import OperatorConfig, RecognizerResult\n",
    "\n",
    "# Analyzer output\n",
    "text_to_anonymize = \"His name is Mr. Jones and his phone number is 212-555-5555\"\n",
    "\n",
    "analyzer_results = analyzer.analyze(text=text_to_anonymize, language='en')\n",
    "print(analyzer_results)\n",
    "\n",
    "# Define anonymization operators\n",
    "operators = {\n",
    "    \"DEFAULT\": OperatorConfig(\"replace\", {\"new_value\": \"<ANONYMIZED>\"}),\n",
    "    \"PHONE_NUMBER\": OperatorConfig(\n",
    "        \"mask\",\n",
    "        {\n",
    "            \"type\": \"mask\",\n",
    "            \"masking_char\": \"*\",\n",
    "            \"chars_to_mask\": 12,\n",
    "            \"from_end\": True,\n",
    "        },\n",
    "    ),\n",
    "    \"TITLE\": OperatorConfig(\"redact\", {}),\n",
    "}\n",
    "\n",
    "anonymized_results = anonymizer.anonymize(\n",
    "    text=text_to_anonymize, analyzer_results=analyzer_results, operators=operators\n",
    ")\n",
    "\n",
    "print(f\"text: {anonymized_results.text}\")\n"
   ]
  }
 ],
 "metadata": {
  "kernelspec": {
   "display_name": "dask",
   "language": "python",
   "name": "python3"
  },
  "language_info": {
   "codemirror_mode": {
    "name": "ipython",
    "version": 3
   },
   "file_extension": ".py",
   "mimetype": "text/x-python",
   "name": "python",
   "nbconvert_exporter": "python",
   "pygments_lexer": "ipython3",
   "version": "3.10.11"
  },
  "orig_nbformat": 4
 },
 "nbformat": 4,
 "nbformat_minor": 2
}
