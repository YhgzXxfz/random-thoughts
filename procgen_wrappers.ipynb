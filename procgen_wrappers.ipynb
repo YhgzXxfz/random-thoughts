{
 "cells": [
  {
   "attachments": {},
   "cell_type": "markdown",
   "metadata": {},
   "source": [
    "# Understand Procgen Env Wrappers"
   ]
  },
  {
   "attachments": {},
   "cell_type": "markdown",
   "metadata": {},
   "source": [
    "### Summary\n",
    "\n",
    "1. `VecNormalize` from OpenAI baselines can normalize both observations and rewards; PPO used it to normalize and clip rewards.\n",
    "2. PPO uses `VecPyTorchProcgen` to normalize observations ([0, 255] -> [0, 1]).\n",
    "3. `VecMonitor` saves sum of (raw) rewards for a completed episode into `info` before the rewards are normed or clipped."
   ]
  },
  {
   "attachments": {},
   "cell_type": "markdown",
   "metadata": {},
   "source": [
    "## Model"
   ]
  },
  {
   "cell_type": "code",
   "execution_count": 1,
   "metadata": {},
   "outputs": [
    {
     "name": "stderr",
     "output_type": "stream",
     "text": [
      "/private/home/qingfeiyou/.conda/envs/gen-offline/lib/python3.9/site-packages/tqdm/auto.py:21: TqdmWarning: IProgress not found. Please update jupyter and ipywidgets. See https://ipywidgets.readthedocs.io/en/stable/user_install.html\n",
      "  from .autonotebook import tqdm as notebook_tqdm\n"
     ]
    },
    {
     "data": {
      "text/plain": [
       "PPOnet(\n",
       "  (base): ResNetBase(\n",
       "    (layer1): Sequential(\n",
       "      (0): Conv2d_tf(3, 16, kernel_size=(3, 3), stride=(1, 1), padding=SAME)\n",
       "      (1): MaxPool2d(kernel_size=3, stride=2, padding=1, dilation=1, ceil_mode=False)\n",
       "      (2): BasicBlock(\n",
       "        (conv1): Conv2d_tf(16, 16, kernel_size=(3, 3), stride=(1, 1), padding=(1, 1))\n",
       "        (relu): ReLU(inplace=True)\n",
       "        (conv2): Conv2d_tf(16, 16, kernel_size=(3, 3), stride=(1, 1), padding=(1, 1))\n",
       "      )\n",
       "      (3): BasicBlock(\n",
       "        (conv1): Conv2d_tf(16, 16, kernel_size=(3, 3), stride=(1, 1), padding=(1, 1))\n",
       "        (relu): ReLU(inplace=True)\n",
       "        (conv2): Conv2d_tf(16, 16, kernel_size=(3, 3), stride=(1, 1), padding=(1, 1))\n",
       "      )\n",
       "    )\n",
       "    (layer2): Sequential(\n",
       "      (0): Conv2d_tf(16, 32, kernel_size=(3, 3), stride=(1, 1), padding=SAME)\n",
       "      (1): MaxPool2d(kernel_size=3, stride=2, padding=1, dilation=1, ceil_mode=False)\n",
       "      (2): BasicBlock(\n",
       "        (conv1): Conv2d_tf(32, 32, kernel_size=(3, 3), stride=(1, 1), padding=(1, 1))\n",
       "        (relu): ReLU(inplace=True)\n",
       "        (conv2): Conv2d_tf(32, 32, kernel_size=(3, 3), stride=(1, 1), padding=(1, 1))\n",
       "      )\n",
       "      (3): BasicBlock(\n",
       "        (conv1): Conv2d_tf(32, 32, kernel_size=(3, 3), stride=(1, 1), padding=(1, 1))\n",
       "        (relu): ReLU(inplace=True)\n",
       "        (conv2): Conv2d_tf(32, 32, kernel_size=(3, 3), stride=(1, 1), padding=(1, 1))\n",
       "      )\n",
       "    )\n",
       "    (layer3): Sequential(\n",
       "      (0): Conv2d_tf(32, 32, kernel_size=(3, 3), stride=(1, 1), padding=SAME)\n",
       "      (1): MaxPool2d(kernel_size=3, stride=2, padding=1, dilation=1, ceil_mode=False)\n",
       "      (2): BasicBlock(\n",
       "        (conv1): Conv2d_tf(32, 32, kernel_size=(3, 3), stride=(1, 1), padding=(1, 1))\n",
       "        (relu): ReLU(inplace=True)\n",
       "        (conv2): Conv2d_tf(32, 32, kernel_size=(3, 3), stride=(1, 1), padding=(1, 1))\n",
       "      )\n",
       "      (3): BasicBlock(\n",
       "        (conv1): Conv2d_tf(32, 32, kernel_size=(3, 3), stride=(1, 1), padding=(1, 1))\n",
       "        (relu): ReLU(inplace=True)\n",
       "        (conv2): Conv2d_tf(32, 32, kernel_size=(3, 3), stride=(1, 1), padding=(1, 1))\n",
       "      )\n",
       "    )\n",
       "    (flatten): Flatten()\n",
       "    (relu): ReLU()\n",
       "    (fc): Linear(in_features=2048, out_features=256, bias=True)\n",
       "    (critic_linear): Linear(in_features=256, out_features=1, bias=True)\n",
       "  )\n",
       "  (dist): Categorical(\n",
       "    (linear): Linear(in_features=256, out_features=15, bias=True)\n",
       "  )\n",
       ")"
      ]
     },
     "execution_count": 1,
     "metadata": {},
     "output_type": "execute_result"
    }
   ],
   "source": [
    "import torch\n",
    "from online.behavior_policies import PPOnet\n",
    "\n",
    "model = PPOnet((3, 64, 64), 15, base_kwargs={\"hidden_size\": 256})\n",
    "cp_path = \"/checkpoint/qingfeiyou/offlinerl/ppo/miner/miner-easy-200-ppo-lr0.0005-epoch3-mb8-v0.5-ha0.01_0/final/model_12.70.pt\"\n",
    "checkpoint_states = torch.load(cp_path)\n",
    "model.load_state_dict(checkpoint_states[\"model_state_dict\"])\n",
    "model.to(\"cuda:0\")"
   ]
  },
  {
   "attachments": {},
   "cell_type": "markdown",
   "metadata": {},
   "source": [
    "## Envs"
   ]
  },
  {
   "attachments": {},
   "cell_type": "markdown",
   "metadata": {},
   "source": [
    "### 1. Normalized Observations and Rewards"
   ]
  },
  {
   "cell_type": "code",
   "execution_count": 2,
   "metadata": {},
   "outputs": [
    {
     "name": "stderr",
     "output_type": "stream",
     "text": [
      "2023-03-29 08:32:27.202187: I tensorflow/core/util/port.cc:110] oneDNN custom operations are on. You may see slightly different numerical results due to floating-point round-off errors from different computation orders. To turn them off, set the environment variable `TF_ENABLE_ONEDNN_OPTS=0`.\n",
      "2023-03-29 08:32:27.246494: I tensorflow/core/platform/cpu_feature_guard.cc:182] This TensorFlow binary is optimized to use available CPU instructions in performance-critical operations.\n",
      "To enable the following instructions: AVX2 AVX512F AVX512_VNNI FMA, in other operations, rebuild TensorFlow with the appropriate compiler flags.\n",
      "2023-03-29 08:32:28.784984: W tensorflow/compiler/tf2tensorrt/utils/py_utils.cc:38] TF-TRT Warning: Could not find TensorRT\n"
     ]
    }
   ],
   "source": [
    "import torch\n",
    "from online.behavior_policies import PPOnet, make_venv\n",
    "\n",
    "venv = make_venv(\n",
    "    num_envs=1,\n",
    "    env_name=\"miner\",\n",
    "    device=\"cuda:0\",\n",
    "    **{\n",
    "        \"num_levels\": 200,\n",
    "        \"start_level\": 0,\n",
    "        \"distribution_mode\": \"easy\",\n",
    "        \"ret_normalization\": True,\n",
    "        \"obs_normalization\": True,\n",
    "    },\n",
    ")\n",
    "obs = venv.reset()\n"
   ]
  },
  {
   "cell_type": "code",
   "execution_count": 3,
   "metadata": {},
   "outputs": [
    {
     "name": "stdout",
     "output_type": "stream",
     "text": [
      "[13.0]\n",
      "[tensor([[0.]]), tensor([[0.]]), tensor([[0.]]), tensor([[0.]]), tensor([[0.]]), tensor([[0.]]), tensor([[0.]]), tensor([[3.0236]]), tensor([[0.]]), tensor([[0.]]), tensor([[0.]]), tensor([[1.5771]]), tensor([[0.]]), tensor([[0.]]), tensor([[0.]]), tensor([[0.]]), tensor([[0.]]), tensor([[0.]]), tensor([[0.]]), tensor([[0.]]), tensor([[0.]]), tensor([[0.]]), tensor([[0.]]), tensor([[0.]]), tensor([[1.1763]]), tensor([[0.]]), tensor([[0.]]), tensor([[0.]]), tensor([[0.]]), tensor([[0.]]), tensor([[0.]]), tensor([[0.]]), tensor([[0.]]), tensor([[0.]]), tensor([[4.9094]])]\n",
      "tensor([[10.6865]])\n"
     ]
    }
   ],
   "source": [
    "eval_episode_rewards = []\n",
    "raw = []\n",
    "\n",
    "while len(eval_episode_rewards) < 1:\n",
    "    with torch.no_grad():\n",
    "        _, action, _ = model.act(obs)\n",
    "\n",
    "    obs, reward, _done, infos = venv.step(action)\n",
    "\n",
    "    eval_episode_rewards.extend((info[\"episode\"][\"r\"] for info in infos if \"episode\" in info.keys()))\n",
    "    raw.append(reward)\n",
    "\n",
    "print(eval_episode_rewards)\n",
    "print(raw)\n",
    "print(sum(raw))\n",
    "\n",
    "# Mismatch between rewards from info (actually from VecMonitor) and rewards from step (normed and clipped in VecNormalizer)\n",
    "assert eval_episode_rewards != sum(raw).cpu().squeeze(1).numpy()"
   ]
  },
  {
   "attachments": {},
   "cell_type": "markdown",
   "metadata": {},
   "source": [
    "### 2. Normalized Observations and Unnormalized Rewards"
   ]
  },
  {
   "cell_type": "code",
   "execution_count": 4,
   "metadata": {},
   "outputs": [
    {
     "name": "stdout",
     "output_type": "stream",
     "text": [
      "Box(3, 64, 64)\n"
     ]
    }
   ],
   "source": [
    "import torch\n",
    "from procgen import ProcgenEnv\n",
    "from baselines.common.vec_env import VecExtractDictObs, VecMonitor, VecNormalize\n",
    "from online.behavior_policies.envs import VecPyTorchProcgen\n",
    "\n",
    "envs = ProcgenEnv(num_envs=1, env_name=\"miner\", num_levels=200, start_level=0, distribution_mode=\"easy\")\n",
    "envs = VecExtractDictObs(envs, \"rgb\")\n",
    "envs = VecMonitor(venv=envs, filename=None, keep_buf=100)\n",
    "envs = VecNormalize(venv=envs, ob=False, ret=False)\n",
    "envs = VecPyTorchProcgen(envs, device=\"cuda:0\", normalize=True) # Here we normalize observations\n",
    "\n",
    "print(envs.observation_space)\n",
    "obs = envs.reset()\n"
   ]
  },
  {
   "cell_type": "code",
   "execution_count": 6,
   "metadata": {},
   "outputs": [
    {
     "name": "stdout",
     "output_type": "stream",
     "text": [
      "[13.0]\n",
      "[tensor([[0.]]), tensor([[0.]]), tensor([[1.]]), tensor([[0.]]), tensor([[0.]]), tensor([[0.]]), tensor([[0.]]), tensor([[0.]]), tensor([[0.]]), tensor([[0.]]), tensor([[0.]]), tensor([[1.]]), tensor([[0.]]), tensor([[0.]]), tensor([[0.]]), tensor([[0.]]), tensor([[0.]]), tensor([[0.]]), tensor([[1.]]), tensor([[0.]]), tensor([[0.]]), tensor([[0.]]), tensor([[0.]]), tensor([[10.]])]\n",
      "tensor([[13.]])\n"
     ]
    }
   ],
   "source": [
    "eval_episode_rewards = []\n",
    "raw = []\n",
    "\n",
    "while len(eval_episode_rewards) < 1:\n",
    "    with torch.no_grad():\n",
    "        _, action, _ = model.act(obs)\n",
    "\n",
    "    obs, reward, done, infos = envs.step(action)\n",
    "\n",
    "    eval_episode_rewards.extend((info[\"episode\"][\"r\"] for info in infos if \"episode\" in info.keys()))\n",
    "    raw.append(reward)\n",
    "\n",
    "print(eval_episode_rewards)\n",
    "print(raw)\n",
    "print(sum(raw))\n",
    "\n",
    "# Sanity check that rewards are not normed nor clipped\n",
    "assert eval_episode_rewards == sum(raw).cpu().squeeze(1).numpy()"
   ]
  },
  {
   "attachments": {},
   "cell_type": "markdown",
   "metadata": {},
   "source": [
    "### 3. Unnormalized Observations and Unnormalized Rewards"
   ]
  },
  {
   "cell_type": "code",
   "execution_count": 7,
   "metadata": {},
   "outputs": [
    {
     "name": "stdout",
     "output_type": "stream",
     "text": [
      "Box(3, 64, 64)\n"
     ]
    }
   ],
   "source": [
    "import torch\n",
    "from procgen import ProcgenEnv\n",
    "from baselines.common.vec_env import VecExtractDictObs, VecMonitor, VecNormalize\n",
    "from online.behavior_policies.envs import VecPyTorchProcgen\n",
    "\n",
    "envs = ProcgenEnv(num_envs=1, env_name=\"miner\", num_levels=200, start_level=0, distribution_mode=\"easy\")\n",
    "envs = VecExtractDictObs(envs, \"rgb\")\n",
    "envs = VecMonitor(venv=envs, filename=None, keep_buf=100)\n",
    "envs = VecNormalize(venv=envs, ob=False, ret=False) # No rewards normalization\n",
    "envs = VecPyTorchProcgen(envs, device=\"cuda:0\", normalize=False) # No obs normalization\n",
    "\n",
    "print(envs.observation_space)\n",
    "obs = envs.reset()\n"
   ]
  },
  {
   "cell_type": "code",
   "execution_count": 9,
   "metadata": {},
   "outputs": [
    {
     "name": "stdout",
     "output_type": "stream",
     "text": [
      "[13.0]\n",
      "[tensor([[0.]]), tensor([[1.]]), tensor([[0.]]), tensor([[0.]]), tensor([[0.]]), tensor([[0.]]), tensor([[0.]]), tensor([[1.]]), tensor([[0.]]), tensor([[0.]]), tensor([[0.]]), tensor([[1.]]), tensor([[0.]]), tensor([[0.]]), tensor([[0.]]), tensor([[0.]]), tensor([[10.]])]\n",
      "tensor([[13.]])\n"
     ]
    }
   ],
   "source": [
    "eval_episode_rewards = []\n",
    "raw = []\n",
    "\n",
    "while len(eval_episode_rewards) < 1:\n",
    "    with torch.no_grad():\n",
    "        _, action, _ = model.act(obs / 255.0) # since the model was trained with normed obs, we need to provide normed obs during inference\n",
    "\n",
    "    obs, reward, done, infos = envs.step(action)\n",
    "\n",
    "    eval_episode_rewards.extend((info[\"episode\"][\"r\"] for info in infos if \"episode\" in info.keys()))\n",
    "    raw.append(reward)\n",
    "\n",
    "print(eval_episode_rewards)\n",
    "print(raw)\n",
    "print(sum(raw))\n",
    "\n",
    "# Sanity check that rewards are not normed nor clipped\n",
    "assert eval_episode_rewards == sum(raw).cpu().squeeze(1).numpy()"
   ]
  }
 ],
 "metadata": {
  "kernelspec": {
   "display_name": "Python 3",
   "language": "python",
   "name": "python3"
  },
  "language_info": {
   "codemirror_mode": {
    "name": "ipython",
    "version": 3
   },
   "file_extension": ".py",
   "mimetype": "text/x-python",
   "name": "python",
   "nbconvert_exporter": "python",
   "pygments_lexer": "ipython3",
   "version": "3.9.16"
  },
  "orig_nbformat": 4,
  "vscode": {
   "interpreter": {
    "hash": "d19afded8e92c14eef98f856b96a8455f5f0dd2b6ca5e4eb395bc63bb4b90357"
   }
  }
 },
 "nbformat": 4,
 "nbformat_minor": 2
}
