{
 "cells": [
  {
   "cell_type": "markdown",
   "metadata": {},
   "source": [
    "# Benchmark Implementations of KNN"
   ]
  },
  {
   "cell_type": "markdown",
   "metadata": {},
   "source": [
    "## Implementations"
   ]
  },
  {
   "cell_type": "code",
   "execution_count": 52,
   "metadata": {},
   "outputs": [],
   "source": [
    "import numpy as np\n",
    "\n",
    "np.random.seed(1337)\n",
    "m, n = 30, 20\n",
    "A = np.random.randn(m, 100)\n",
    "B = np.random.randn(n, 100)"
   ]
  },
  {
   "cell_type": "code",
   "execution_count": 53,
   "metadata": {},
   "outputs": [],
   "source": [
    "def three_loops(A, B):\n",
    "    m, d = A.shape\n",
    "    n = B.shape[0]\n",
    "    dist = np.zeros((m, n))\n",
    "    for i in range(m):\n",
    "        for j in range(n):\n",
    "            val = 0.0\n",
    "            for k in range(d):\n",
    "                val += (A[i][k] - B[j][k]) ** 2\n",
    "\n",
    "            dist[i][j] = val\n",
    "    return dist\n",
    "\n",
    "\n",
    "C_3 = three_loops(A, B)"
   ]
  },
  {
   "cell_type": "code",
   "execution_count": 54,
   "metadata": {},
   "outputs": [],
   "source": [
    "# This is how I would do in Matlab\n",
    "def two_loops(A, B):\n",
    "    m = A.shape[0]\n",
    "    n = B.shape[0]\n",
    "    dist = np.zeros((m, n))\n",
    "    for i in range(m):\n",
    "        for j in range(n):\n",
    "            dist[i][j] = np.sum((A[i] - B[j]) ** 2)\n",
    "    return dist\n",
    "\n",
    "\n",
    "C_2 = two_loops(A, B)"
   ]
  },
  {
   "cell_type": "code",
   "execution_count": 55,
   "metadata": {},
   "outputs": [],
   "source": [
    "def one_loop(A, B):\n",
    "    m = A.shape[0]\n",
    "    n = B.shape[0]\n",
    "    dist = np.zeros((m, n))\n",
    "    for i in range(m):\n",
    "        dist[i, :] = np.sum((A[i] - B) ** 2, axis=-1)  # broadcasting A[i] to B\n",
    "\n",
    "    return dist\n",
    "\n",
    "\n",
    "\"\"\"\n",
    "Alternative\n",
    "\n",
    "def one_loop(A, B):\n",
    "    m = A.shape[0]\n",
    "    n = B.shape[0]\n",
    "    dist = np.zeros((m, n))\n",
    "    for j in range(n):\n",
    "        dist[:, j] = np.sum((A - B[j]) ** 2, axis=-1)\n",
    "\n",
    "    return dist\n",
    "\"\"\"\n",
    "\n",
    "\n",
    "C_1 = one_loop(A, B)"
   ]
  },
  {
   "cell_type": "code",
   "execution_count": 56,
   "metadata": {},
   "outputs": [],
   "source": [
    "# matlab (no broadcasting => vector)\n",
    "# image registration (ftt)\n",
    "def zero_loop(A, B):\n",
    "    A_square = np.sum(A**2, axis=-1, keepdims=True)  # (m, 1)\n",
    "    B_square = np.sum(B**2, axis=-1, keepdims=True)  # (n, 1)\n",
    "\n",
    "    A_mul_B = A @ B.T  # (m, d) @ (d, n) => (m, n)\n",
    "\n",
    "    return A_square - 2 * A_mul_B + B_square.reshape(1, n)\n",
    "\n",
    "\n",
    "C_0 = zero_loop(A, B)"
   ]
  },
  {
   "cell_type": "code",
   "execution_count": 57,
   "metadata": {},
   "outputs": [],
   "source": [
    "assert np.allclose(C_3, C_2) and np.allclose(C_2, C_1) and np.allclose(C_1, C_0)"
   ]
  },
  {
   "cell_type": "markdown",
   "metadata": {},
   "source": [
    "## Benchmark"
   ]
  },
  {
   "cell_type": "markdown",
   "metadata": {},
   "source": [
    "m = 3, n = 2, d = 10\n",
    "- 3 loops: 24.5e-6s\n",
    "- 2 loops: 13e-6s\n",
    "- 1 loop: 8.8e-6s\n",
    "- 0 loop: 7.13e-6s\n",
    "\n",
    "m = 30, n = 20, d = 100\n",
    "- 3 loops: 22.9e-3s\n",
    "- 2 loops: 1.31e-3s\n",
    "- 1 loop: 139e-6s\n",
    "- 0 loop: 14.3e-6s\n"
   ]
  },
  {
   "cell_type": "code",
   "execution_count": 105,
   "metadata": {},
   "outputs": [
    {
     "name": "stdout",
     "output_type": "stream",
     "text": [
      "22.9 ms ± 2.82 ms per loop (mean ± std. dev. of 10 runs, 2 loops each)\n"
     ]
    }
   ],
   "source": [
    "%timeit -r 10 -n 2 three_loops(A, B)"
   ]
  },
  {
   "cell_type": "code",
   "execution_count": 102,
   "metadata": {},
   "outputs": [
    {
     "name": "stdout",
     "output_type": "stream",
     "text": [
      "1.31 ms ± 220 µs per loop (mean ± std. dev. of 100 runs, 5 loops each)\n"
     ]
    }
   ],
   "source": [
    "\n",
    "%timeit -r 100 -n 5 two_loop(A, B)"
   ]
  },
  {
   "cell_type": "code",
   "execution_count": 90,
   "metadata": {},
   "outputs": [
    {
     "name": "stdout",
     "output_type": "stream",
     "text": [
      "139 µs ± 44.8 µs per loop (mean ± std. dev. of 100 runs, 2 loops each)\n"
     ]
    }
   ],
   "source": [
    "\n",
    "%timeit -r 100 -n 2 one_loop(A, B)"
   ]
  },
  {
   "cell_type": "code",
   "execution_count": 100,
   "metadata": {},
   "outputs": [
    {
     "name": "stdout",
     "output_type": "stream",
     "text": [
      "The slowest run took 12.83 times longer than the fastest. This could mean that an intermediate result is being cached.\n",
      "14.3 µs ± 5.28 µs per loop (mean ± std. dev. of 1000 runs, 5 loops each)\n"
     ]
    }
   ],
   "source": [
    "\n",
    "%timeit -r 1000 -n 5 zero_loop(A, B)"
   ]
  }
 ],
 "metadata": {
  "kernelspec": {
   "display_name": "karpathy-nlp",
   "language": "python",
   "name": "python3"
  },
  "language_info": {
   "codemirror_mode": {
    "name": "ipython",
    "version": 3
   },
   "file_extension": ".py",
   "mimetype": "text/x-python",
   "name": "python",
   "nbconvert_exporter": "python",
   "pygments_lexer": "ipython3",
   "version": "3.10.13"
  }
 },
 "nbformat": 4,
 "nbformat_minor": 2
}
