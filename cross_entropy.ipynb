{
 "cells": [
  {
   "cell_type": "code",
   "execution_count": 1,
   "metadata": {},
   "outputs": [
    {
     "name": "stdout",
     "output_type": "stream",
     "text": [
      "tensor([[-2.0260, -2.0655, -1.2054],\n",
      "        [-0.9122, -1.2502,  0.8032],\n",
      "        [-0.2071,  0.0544,  0.1378],\n",
      "        [-0.3889,  0.5133,  0.3319],\n",
      "        [ 0.6300,  0.5815, -0.0282]])\n",
      "softmax: tensor([[0.2362, 0.2271, 0.5367],\n",
      "        [0.1375, 0.0981, 0.7644],\n",
      "        [0.2695, 0.3500, 0.3805],\n",
      "        [0.1811, 0.4465, 0.3724],\n",
      "        [0.4048, 0.3856, 0.2096]])\n",
      "target: tensor([0, 2, 0, 2, 1])\n",
      "cross_entropy: 4.963563919067383\n",
      "mean Cross Entropy (pytorch): 0.9927127957344055\n",
      "mean Cross Entropy (log softmax + nll): 0.9927127957344055\n",
      "mean Cross Entropy (manual): 0.9927127957344055\n"
     ]
    }
   ],
   "source": [
    "import torch\n",
    "import torch.nn.functional as F\n",
    "\n",
    "torch.manual_seed(1337)\n",
    "\n",
    "# ----------------------------------------------------------------------\n",
    "# Cross Entropy Indices Example\n",
    "num_classes = 3\n",
    "num_examples = 5\n",
    "input = torch.randn(size=(num_examples, num_classes)) # (5, 3)\n",
    "print(input)\n",
    "\n",
    "# Softmax\n",
    "## s[i] denotes the normalized score of each class j for ith example\n",
    "s = F.softmax(input, dim=-1) # (5, 3)\n",
    "print(f\"softmax: {s}\")\n",
    "\n",
    "manual_softmax = torch.exp(input) / torch.sum(torch.exp(input), dim=-1, keepdim=True)\n",
    "assert torch.allclose(s, manual_softmax)\n",
    "\n",
    "# Log Softmax\n",
    "assert torch.allclose(F.log_softmax(input, dim=-1), torch.log(F.softmax(input, dim=-1)))\n",
    "# Log Softmax are transition invariant\n",
    "assert torch.allclose(F.log_softmax(input, dim=-1), F.log_softmax(F.log_softmax(input, dim=-1), dim=-1))\n",
    "\n",
    "# Cross Entropy\n",
    "## target[i] means the correct class in ith example \n",
    "target = torch.randint(num_classes, size=(num_examples,), dtype=torch.int64) # (5,)\n",
    "print(f\"target: {target}\")\n",
    "\n",
    "## Sum\n",
    "cross_entropy = F.cross_entropy(input, target, reduction='sum')\n",
    "print(f\"cross_entropy: {cross_entropy}\")\n",
    "\n",
    "### In PyTorch, cross entropy == log softmax + nll\n",
    "### There is no log in nll\n",
    "half_manual_cross_entropy = F.nll_loss(F.log_softmax(input, dim=-1), target, reduction=\"sum\")\n",
    "\n",
    "### Definiion: Sum of log probability\n",
    "### Sum of log probability of classification result a[i, j] which matches target i over all i examples\n",
    "manual_cross_entropy = (-torch.sum(F.log_softmax(input, dim=-1)[torch.arange(0, num_examples), target]))\n",
    "assert torch.allclose(cross_entropy, half_manual_cross_entropy)\n",
    "assert torch.allclose(cross_entropy, manual_cross_entropy)\n",
    "\n",
    "## Mean (default)\n",
    "print(f\"mean Cross Entropy (pytorch): {F.cross_entropy(input, target, reduction='mean')}\")\n",
    "print(f\"mean Cross Entropy (log softmax + nll): {F.nll_loss(F.log_softmax(input, dim=-1), target, reduction='mean')}\")\n",
    "print(f\"mean Cross Entropy (manual): {-torch.mean(F.log_softmax(input, dim=-1)[torch.arange(0, num_examples), target])}\")\n",
    "\n"
   ]
  },
  {
   "cell_type": "code",
   "execution_count": 2,
   "metadata": {},
   "outputs": [
    {
     "name": "stdout",
     "output_type": "stream",
     "text": [
      "tensor(4.5964)\n",
      "tensor(4.5964)\n",
      "tensor(1.5321)\n",
      "tensor(1.5321)\n"
     ]
    }
   ],
   "source": [
    "import torch\n",
    "import torch.nn.functional as F\n",
    "\n",
    "torch.manual_seed(1337)\n",
    "\n",
    "# -------------------------------------------------------------------------\n",
    "# Cross Entropy Prob Example\n",
    "input = torch.randn(3, 5)\n",
    "target = torch.randn(3, 5).softmax(dim=-1)\n",
    "\n",
    "## Sum\n",
    "cross_entropy = F.cross_entropy(input, target, reduction='sum')\n",
    "print(cross_entropy)\n",
    "### Manual\n",
    "print(-torch.sum(torch.sum(F.log_softmax(input, dim=-1) * target, dim=-1)))\n",
    "\n",
    "## Mean (default)\n",
    "print(F.cross_entropy(input, target, reduction='mean'))\n",
    "### Manual\n",
    "print(-torch.mean(torch.sum(F.log_softmax(input, dim=-1) * target, dim=-1)))\n"
   ]
  },
  {
   "cell_type": "code",
   "execution_count": 4,
   "metadata": {},
   "outputs": [
    {
     "name": "stdout",
     "output_type": "stream",
     "text": [
      "tensor([[-2.0260, -2.0655, -1.2054],\n",
      "        [-0.9122, -1.2502,  0.8032],\n",
      "        [-0.2071,  0.0544,  0.1378],\n",
      "        [-0.3889,  0.5133,  0.3319],\n",
      "        [ 0.6300,  0.5815, -0.0282]])\n",
      "target: tensor([0, 2, 0, 2, 1])\n"
     ]
    }
   ],
   "source": [
    "import torch\n",
    "import torch.nn.functional as F\n",
    "import torch.nn as nn\n",
    "\n",
    "torch.manual_seed(1337)\n",
    "\n",
    "# ----------------------------------------------------------------------\n",
    "# Cross Entropy Indices Example\n",
    "num_classes = 3\n",
    "num_examples = 5\n",
    "input = torch.randn(size=(num_examples, num_classes))  # (5, 3)\n",
    "print(input)\n",
    "\n",
    "# Cross Entropy\n",
    "## target[i] means the correct class in ith example\n",
    "target = torch.randint(num_classes, size=(num_examples,), dtype=torch.int64)  # (5,)\n",
    "print(f\"target: {target}\")\n",
    "\n",
    "\n",
    "loss = nn.CrossEntropyLoss()\n",
    "assert torch.allclose(loss(input=input, target=target), F.cross_entropy(input=input, target=target))\n"
   ]
  }
 ],
 "metadata": {
  "kernelspec": {
   "display_name": "Python 3",
   "language": "python",
   "name": "python3"
  },
  "language_info": {
   "codemirror_mode": {
    "name": "ipython",
    "version": 3
   },
   "file_extension": ".py",
   "mimetype": "text/x-python",
   "name": "python",
   "nbconvert_exporter": "python",
   "pygments_lexer": "ipython3",
   "version": "3.9.7"
  },
  "orig_nbformat": 4,
  "vscode": {
   "interpreter": {
    "hash": "2241e891bdcb43d70b129352065e4a3e3c43dbe26992820aebe42833f1782192"
   }
  }
 },
 "nbformat": 4,
 "nbformat_minor": 2
}
