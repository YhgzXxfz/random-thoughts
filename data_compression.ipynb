{
 "cells": [
  {
   "attachments": {},
   "cell_type": "markdown",
   "metadata": {},
   "source": [
    "### Compression on npy files"
   ]
  },
  {
   "cell_type": "code",
   "execution_count": 7,
   "metadata": {},
   "outputs": [
    {
     "name": "stdout",
     "output_type": "stream",
     "text": [
      "npz file size: 11087109\n",
      "npy file size: 49266920\n",
      "xz file size: 535536\n",
      "updating: original.npy (deflated 78%)\n",
      "zip file size: 10869016\n",
      "Archive:  zip_compressed.zip\n",
      "  inflating: original.npy            \n",
      "bzip2 file size: 1476344\n",
      "gzip file size: 10868873\n"
     ]
    }
   ],
   "source": [
    "import os\n",
    "import sys\n",
    "import numpy as np\n",
    "from typing import Dict\n",
    "import gzip\n",
    "import subprocess\n",
    "\n",
    "\n",
    "def load_episode(path, compressed=True) -> Dict[str, np.ndarray]:\n",
    "    with open(path, \"rb\") as f:\n",
    "        episode = np.load(f, allow_pickle=not compressed)\n",
    "        if not compressed:\n",
    "            episode = episode.item()\n",
    "\n",
    "        episode = {k: episode[k] for k in episode.keys()}\n",
    "        return episode\n",
    "\n",
    "\n",
    "def compare(o, n):\n",
    "    assert sys.getsizeof(o) == sys.getsizeof(n)\n",
    "    assert o.keys() == n.keys()\n",
    "    for k in o.keys():\n",
    "        assert np.allclose(o[k], n[k])\n",
    "\n",
    "\n",
    "# npy\n",
    "PATH = \"/checkpoint/qingfeiyou/offlinerl/compressed/temp/original/20230601T164859_1900_1001_142_19.00.npz\"\n",
    "print(f\"npz file size: {os.path.getsize(PATH)}\")\n",
    "\n",
    "original = load_episode(PATH, compressed=True)\n",
    "\n",
    "np.save(\"original.npy\", original)\n",
    "print(f\"npy file size: {os.path.getsize('original.npy')}\")\n",
    "\n",
    "# xz\n",
    "subprocess.call(\"xz -9 original.npy\", shell=True)\n",
    "print(f\"xz file size: {os.path.getsize('original.npy.xz')}\")\n",
    "subprocess.call(\"xz -d original.npy.xz\", shell=True)\n",
    "new_episode = load_episode(\"original.npy\", compressed=False)\n",
    "compare(original, new_episode)\n",
    "\n",
    "# zip\n",
    "subprocess.call(\"zip -9 zip_compressed.zip original.npy\", shell=True)\n",
    "print(f\"zip file size: {os.path.getsize('zip_compressed.zip')}\")\n",
    "subprocess.call(\"unzip -o zip_compressed.zip\", shell=True)  # Overwrite existing file\n",
    "new_episode = load_episode(\"original.npy\", compressed=False)\n",
    "compare(original, new_episode)\n",
    "\n",
    "# bzip2\n",
    "subprocess.call(\"bzip2 -zf9 original.npy\", shell=True)\n",
    "print(f\"bzip2 file size: {os.path.getsize('original.npy.bz2')}\")\n",
    "subprocess.call(\"bzip2 -d original.npy.bz2\", shell=True)\n",
    "new_episode = load_episode(\"original.npy\", compressed=False)\n",
    "compare(original, new_episode)\n",
    "\n",
    "# gzip\n",
    "subprocess.call(\"gzip -9 original.npy\", shell=True)\n",
    "print(f\"gzip file size: {os.path.getsize('original.npy.gz')}\")\n",
    "subprocess.call(\"gzip -d original.npy.gz\", shell=True)\n",
    "new_episode = load_episode(\"original.npy\", compressed=False)\n",
    "compare(original, new_episode)\n"
   ]
  },
  {
   "attachments": {},
   "cell_type": "markdown",
   "metadata": {},
   "source": [
    "### Compression on npz files"
   ]
  },
  {
   "cell_type": "code",
   "execution_count": 1,
   "metadata": {},
   "outputs": [
    {
     "name": "stdout",
     "output_type": "stream",
     "text": [
      "npz file size: 11087109\n",
      "npz file size: 11087109\n",
      "xz file size: 5410472\n",
      "  adding: original.npz (deflated 10%)\n",
      "zip file size: 9927207\n",
      "Archive:  zip_compressed.zip\n",
      "  inflating: original.npz            \n",
      "bzip2 file size: 8375949\n",
      "gzip file size: 9927065\n"
     ]
    }
   ],
   "source": [
    "import os\n",
    "import sys\n",
    "import numpy as np\n",
    "from typing import Dict\n",
    "import gzip\n",
    "import subprocess\n",
    "\n",
    "\n",
    "def load_episode(path, compressed=True) -> Dict[str, np.ndarray]:\n",
    "    with open(path, \"rb\") as f:\n",
    "        episode = np.load(f, allow_pickle=not compressed)\n",
    "        if not compressed:\n",
    "            episode = episode.item()\n",
    "\n",
    "        episode = {k: episode[k] for k in episode.keys()}\n",
    "        return episode\n",
    "\n",
    "\n",
    "def compare(o, n):\n",
    "    assert sys.getsizeof(o) == sys.getsizeof(n)\n",
    "    assert o.keys() == n.keys()\n",
    "    for k in o.keys():\n",
    "        assert np.allclose(o[k], n[k])\n",
    "\n",
    "\n",
    "# npz\n",
    "PATH = \"/checkpoint/qingfeiyou/offlinerl/compressed/temp/original/20230601T164859_1900_1001_142_19.00.npz\"\n",
    "print(f\"npz file size: {os.path.getsize(PATH)}\")\n",
    "\n",
    "original = load_episode(PATH, compressed=True)\n",
    "\n",
    "np.savez_compressed(\"original.npz\", **original)\n",
    "print(f\"npz file size: {os.path.getsize('original.npz')}\")\n",
    "\n",
    "# xz\n",
    "subprocess.call(\"xz -9 original.npz\", shell=True)\n",
    "print(f\"xz file size: {os.path.getsize('original.npz.xz')}\")\n",
    "subprocess.call(\"xz -d original.npz.xz\", shell=True)\n",
    "new_episode = load_episode(\"original.npz\", compressed=True)\n",
    "compare(original, new_episode)\n",
    "\n",
    "# zip\n",
    "subprocess.call(\"zip -9 zip_compressed.zip original.npz\", shell=True)\n",
    "print(f\"zip file size: {os.path.getsize('zip_compressed.zip')}\")\n",
    "subprocess.call(\"unzip -o zip_compressed.zip\", shell=True)  # Overwrite existing file\n",
    "new_episode = load_episode(\"original.npz\", compressed=True)\n",
    "compare(original, new_episode)\n",
    "\n",
    "# bzip2\n",
    "subprocess.call(\"bzip2 -zf9 original.npz\", shell=True)\n",
    "print(f\"bzip2 file size: {os.path.getsize('original.npz.bz2')}\")\n",
    "subprocess.call(\"bzip2 -d original.npz.bz2\", shell=True)\n",
    "new_episode = load_episode(\"original.npz\", compressed=True)\n",
    "compare(original, new_episode)\n",
    "\n",
    "# gzip\n",
    "subprocess.call(\"gzip -9 original.npz\", shell=True)\n",
    "print(f\"gzip file size: {os.path.getsize('original.npz.gz')}\")\n",
    "subprocess.call(\"gzip -d original.npz.gz\", shell=True)\n",
    "new_episode = load_episode(\"original.npz\", compressed=True)\n",
    "compare(original, new_episode)\n"
   ]
  }
 ],
 "metadata": {
  "kernelspec": {
   "display_name": "Python 3",
   "language": "python",
   "name": "python3"
  },
  "language_info": {
   "codemirror_mode": {
    "name": "ipython",
    "version": 3
   },
   "file_extension": ".py",
   "mimetype": "text/x-python",
   "name": "python",
   "nbconvert_exporter": "python",
   "pygments_lexer": "ipython3",
   "version": "3.9.16"
  },
  "orig_nbformat": 4,
  "vscode": {
   "interpreter": {
    "hash": "d19afded8e92c14eef98f856b96a8455f5f0dd2b6ca5e4eb395bc63bb4b90357"
   }
  }
 },
 "nbformat": 4,
 "nbformat_minor": 2
}
