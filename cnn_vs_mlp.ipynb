{
 "cells": [
  {
   "cell_type": "code",
   "execution_count": 1,
   "metadata": {},
   "outputs": [],
   "source": [
    "import torch\n",
    "\n",
    "class PytorchMLP(torch.nn.Module):\n",
    "    def __init__(self):\n",
    "        super().__init__()\n",
    "\n",
    "        self.all_layers = torch.nn.Sequential(\n",
    "            # 1 st hidden layer\n",
    "            torch.nn.Linear(3*224*224, 10_000),\n",
    "            torch.nn.ReLU(),\n",
    "\n",
    "            # 2nd hidden layer\n",
    "            torch.nn.Linear(10_000, 1_000),\n",
    "            torch.nn.ReLU(),\n",
    "\n",
    "            # 3rd hidden layer\n",
    "            torch.nn.Linear(1_000, 100),\n",
    "            torch.nn.ReLU(),\n",
    "\n",
    "            # output layer\n",
    "            torch.nn.Linear(100, 10),\n",
    "        )\n",
    "\n",
    "    def forward(self, x):\n",
    "        x = torch.flatten(x, start_dim=1)\n",
    "        logits = self.all_layers(x)\n",
    "        return logits\n",
    "\n",
    "\n",
    "class PytorchCNN(torch.nn.Module):\n",
    "    def __init__(self):\n",
    "        super().__init__()\n",
    "\n",
    "        self.cnn_layers = torch.nn.Sequential(\n",
    "            torch.nn.Conv2d(3, 8, kernel_size=5, stride=2),\n",
    "            torch.nn.ReLU(),\n",
    "\n",
    "            torch.nn.Conv2d(8, 24, kernel_size=5, stride=2),\n",
    "            torch.nn.ReLU(),\n",
    "\n",
    "            torch.nn.Conv2d(24, 32, kernel_size=3, stride=2),\n",
    "            torch.nn.ReLU(),\n",
    "\n",
    "            torch.nn.Conv2d(32, 48, kernel_size=3, stride=2),\n",
    "            torch.nn.ReLU(),\n",
    "        )\n",
    "\n",
    "        self.fc_layers = torch.nn.Sequential(\n",
    "            torch.nn.Linear(48*12*12, 200),\n",
    "            torch.nn.ReLU(),\n",
    "            torch.nn.Linear(200, 10),\n",
    "        )\n",
    "\n",
    "    def forward(self, x):\n",
    "        x = self.cnn_layers(x)\n",
    "        x = torch.flatten(x, start_dim=1)\n",
    "        logits = self.fc_layers(x)\n",
    "        return logits\n"
   ]
  },
  {
   "cell_type": "code",
   "execution_count": 2,
   "metadata": {},
   "outputs": [
    {
     "name": "stdout",
     "output_type": "stream",
     "text": [
      "Model size: 5.645 GB\n",
      "Model size: 0.005 GB\n"
     ]
    }
   ],
   "source": [
    "import sys\n",
    "\n",
    "mlp = PytorchMLP()\n",
    "cnn = PytorchCNN()\n",
    "\n",
    "def compute_size(model):\n",
    "    size = 0.\n",
    "    for _name, param in model.named_parameters():\n",
    "        size += sys.getsizeof(param.storage()) / 1024**3\n",
    "    print(f\"Model size: {size:.3f} GB\")\n",
    "\n",
    "compute_size(mlp)\n",
    "compute_size(cnn)"
   ]
  }
 ],
 "metadata": {
  "kernelspec": {
   "display_name": "Python 3",
   "language": "python",
   "name": "python3"
  },
  "language_info": {
   "codemirror_mode": {
    "name": "ipython",
    "version": 3
   },
   "file_extension": ".py",
   "mimetype": "text/x-python",
   "name": "python",
   "nbconvert_exporter": "python",
   "pygments_lexer": "ipython3",
   "version": "3.9.7"
  },
  "orig_nbformat": 4,
  "vscode": {
   "interpreter": {
    "hash": "2241e891bdcb43d70b129352065e4a3e3c43dbe26992820aebe42833f1782192"
   }
  }
 },
 "nbformat": 4,
 "nbformat_minor": 2
}
